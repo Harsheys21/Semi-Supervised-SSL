{
 "cells": [
  {
   "cell_type": "markdown",
   "metadata": {},
   "source": [
    "# Semi Supervised Learning SSL"
   ]
  },
  {
   "cell_type": "markdown",
   "metadata": {},
   "source": [
    "## Introduction\n",
    "\n",
    "In this project, we delve into the challenges of semi-supervised learning (SSL) and its application to address label scarcity in classification tasks. The dataset used in this project, the Magic Mushrooms dataset, contains features related to mushroom characteristics, previously explored in assignments 1 and 2.\n",
    "\n",
    "The primary objective is to investigate how semi-supervised learning can leverage a small amount of labeled data alongside a larger portion of unlabeled data to improve classification performance. We begin by building a supervised learning baseline using the Gradient Boosting algorithm. This serves as a benchmark against which the performance of various semi-supervised algorithms will be compared.\n",
    "\n",
    "To start the virtual enviornment, run \"source py-env/bin/activate\""
   ]
  },
  {
   "cell_type": "markdown",
   "metadata": {},
   "source": [
    "## Libraries Installed"
   ]
  },
  {
   "cell_type": "code",
   "execution_count": 141,
   "metadata": {},
   "outputs": [
    {
     "name": "stdout",
     "output_type": "stream",
     "text": [
      "/Users/jhaha/Documents/GitHub/Semi-Supervised-SSL/py-env/bin/python\n"
     ]
    }
   ],
   "source": [
    "\n",
    "import ssl\n",
    "import pandas as pd\n",
    "from ucimlrepo import fetch_ucirepo \n",
    "import sys\n",
    "print(sys.executable)\n",
    "from sklearn import tree\n",
    "from sklearn.model_selection import train_test_split, cross_val_score\n",
    "from sklearn.metrics import confusion_matrix, ConfusionMatrixDisplay, roc_curve, roc_auc_score\n",
    "import numpy as np\n",
    "import matplotlib.pyplot as plt\n",
    "from sklearn.semi_supervised import SelfTrainingClassifier\n",
    "from sklearn.ensemble import GradientBoostingClassifier\n",
    "from sklearn.metrics import precision_score, recall_score, accuracy_score\n",
    "import optuna"
   ]
  },
  {
   "cell_type": "markdown",
   "metadata": {},
   "source": [
    "## Data Preprocessing"
   ]
  },
  {
   "cell_type": "code",
   "execution_count": 142,
   "metadata": {},
   "outputs": [],
   "source": [
    "# Disable SSL verification\n",
    "ssl._create_default_https_context = ssl._create_unverified_context\n",
    "\n",
    "# Fetch dataset\n",
    "drug_consumption_quantified = fetch_ucirepo(id=373)\n",
    "\n",
    "# Data as pandas DataFrames\n",
    "X = drug_consumption_quantified.data.features\n",
    "y = drug_consumption_quantified.data.targets\n",
    "\n",
    "# Convert features and targets into a single DataFrame\n",
    "df = pd.concat([X, y], axis=1)\n",
    "\n",
    "user_data = df.iloc[:, 0:12]\n",
    "\n",
    "\n",
    "choco = df['choc']\n",
    "shrooms = df['mushrooms']\n"
   ]
  },
  {
   "cell_type": "code",
   "execution_count": 143,
   "metadata": {},
   "outputs": [],
   "source": [
    "# take the multiple classifications and convert it into binary\n",
    "\n",
    "choc_binary = []\n",
    "mushrooms_binary = []\n",
    "\n",
    "for i in choco:\n",
    "    if i == 'CL0' or i == 'CL1':\n",
    "        choc_binary.append(0)\n",
    "    else:\n",
    "        choc_binary.append(1)\n",
    "\n",
    "for i in shrooms:\n",
    "    if i == 'CL0' or i == 'CL1':\n",
    "        mushrooms_binary.append(0)\n",
    "    else:\n",
    "        mushrooms_binary.append(1)\n",
    "\n",
    "choc_binary = np.array(choc_binary)\n",
    "mushrooms_binary = np.array(mushrooms_binary)\n",
    "\n",
    "X_choco_train, X_choco_test, y_choco_train, y_choco_test = train_test_split(user_data, choc_binary, test_size=0.33, random_state=42, stratify=choc_binary)\n",
    "X_mushroom_train, X_mushroom_test, y_mushroom_train, y_mushroom_test = train_test_split(user_data, mushrooms_binary, test_size=0.33, random_state=42, stratify=mushrooms_binary)"
   ]
  },
  {
   "cell_type": "code",
   "execution_count": 144,
   "metadata": {},
   "outputs": [
    {
     "data": {
      "text/plain": [
       "(1262, 12)"
      ]
     },
     "execution_count": 144,
     "metadata": {},
     "output_type": "execute_result"
    }
   ],
   "source": [
    "X_mushroom_train.shape"
   ]
  },
  {
   "cell_type": "code",
   "execution_count": 145,
   "metadata": {},
   "outputs": [],
   "source": [
    "# model eval function\n",
    "def evaluate_model(type, model, X_train, y_train, X_test, y_test):\n",
    "    model.fit(X_train, y_train)\n",
    "    y_pred = model.predict(X_test)\n",
    "    \n",
    "    precision = precision_score(y_test, y_pred)\n",
    "    recall = recall_score(y_test, y_pred)\n",
    "    accuracy = accuracy_score(y_test, y_pred)\n",
    "    \n",
    "    print(f\"{model.__class__.__name__} - Accuracy: {accuracy}, Precision: {precision}, Recall: {recall}\")\n",
    "    cm = confusion_matrix(y_test, y_pred)\n",
    "    disp = ConfusionMatrixDisplay(confusion_matrix=cm)\n",
    "    fig, ax = plt.subplots()\n",
    "    disp.plot(ax=ax)\n",
    "    ax.set_title(f\"{type} Confusion Matrix for {model.__class__.__name__}\")\n",
    "    plt.show()\n",
    "    \n",
    "    return accuracy, y_pred"
   ]
  },
  {
   "cell_type": "markdown",
   "metadata": {},
   "source": [
    "## Supervised Learning Baseline\n",
    "- Implementing the Gradient Boosting model\n",
    "- Hyperparameter optimization (Bayesian Search via Optuna)\n",
    "- Performance metrics (accuracy, precision, recall, F1-score, AUC)"
   ]
  },
  {
   "cell_type": "code",
   "execution_count": 146,
   "metadata": {},
   "outputs": [
    {
     "name": "stderr",
     "output_type": "stream",
     "text": [
      "[I 2024-11-25 20:45:23,564] A new study created in memory with name: no-name-a0021615-3095-431a-8edb-cf0a033297c4\n",
      "[I 2024-11-25 20:45:25,285] Trial 0 finished with value: 0.7781698977351151 and parameters: {'n_estimators': 118, 'learning_rate': 0.061577744862529524, 'max_depth': 5}. Best is trial 0 with value: 0.7781698977351151.\n",
      "[I 2024-11-25 20:45:26,188] Trial 1 finished with value: 0.7393312002007655 and parameters: {'n_estimators': 79, 'learning_rate': 0.9232402785982496, 'max_depth': 4}. Best is trial 0 with value: 0.7781698977351151.\n",
      "[I 2024-11-25 20:45:26,428] Trial 2 finished with value: 0.7734017190538929 and parameters: {'n_estimators': 65, 'learning_rate': 0.03019306435289067, 'max_depth': 1}. Best is trial 0 with value: 0.7781698977351151.\n",
      "[I 2024-11-25 20:45:28,132] Trial 3 finished with value: 0.7876748855009724 and parameters: {'n_estimators': 138, 'learning_rate': 0.011167953144070585, 'max_depth': 4}. Best is trial 3 with value: 0.7876748855009724.\n",
      "[I 2024-11-25 20:45:29,185] Trial 4 finished with value: 0.7789447267708137 and parameters: {'n_estimators': 170, 'learning_rate': 0.17785511457739067, 'max_depth': 2}. Best is trial 3 with value: 0.7876748855009724.\n",
      "[I 2024-11-25 20:45:30,502] Trial 5 finished with value: 0.7599567099567099 and parameters: {'n_estimators': 122, 'learning_rate': 0.12806543200789763, 'max_depth': 4}. Best is trial 3 with value: 0.7876748855009724.\n",
      "[I 2024-11-25 20:45:31,699] Trial 6 finished with value: 0.7409122278687497 and parameters: {'n_estimators': 79, 'learning_rate': 0.4294918529917127, 'max_depth': 5}. Best is trial 3 with value: 0.7876748855009724.\n",
      "[I 2024-11-25 20:45:34,180] Trial 7 finished with value: 0.7702584854758767 and parameters: {'n_estimators': 168, 'learning_rate': 0.049986866183587185, 'max_depth': 5}. Best is trial 3 with value: 0.7876748855009724.\n",
      "[I 2024-11-25 20:45:35,352] Trial 8 finished with value: 0.7448836187966623 and parameters: {'n_estimators': 79, 'learning_rate': 0.5648306452461191, 'max_depth': 5}. Best is trial 3 with value: 0.7876748855009724.\n",
      "[I 2024-11-25 20:45:37,036] Trial 9 finished with value: 0.7520139281008846 and parameters: {'n_estimators': 153, 'learning_rate': 0.2816137517122412, 'max_depth': 4}. Best is trial 3 with value: 0.7876748855009724.\n",
      "[I 2024-11-25 20:45:38,191] Trial 10 finished with value: 0.7924211054645836 and parameters: {'n_estimators': 140, 'learning_rate': 0.011156994890977857, 'max_depth': 3}. Best is trial 10 with value: 0.7924211054645836.\n",
      "[I 2024-11-25 20:45:39,338] Trial 11 finished with value: 0.7924211054645837 and parameters: {'n_estimators': 141, 'learning_rate': 0.01008393842317149, 'max_depth': 3}. Best is trial 11 with value: 0.7924211054645837.\n",
      "[I 2024-11-25 20:45:40,459] Trial 12 finished with value: 0.787668611581655 and parameters: {'n_estimators': 196, 'learning_rate': 0.010179307024770405, 'max_depth': 2}. Best is trial 11 with value: 0.7924211054645837.\n",
      "[I 2024-11-25 20:45:41,370] Trial 13 finished with value: 0.7868749607880042 and parameters: {'n_estimators': 111, 'learning_rate': 0.02163947240905775, 'max_depth': 3}. Best is trial 11 with value: 0.7924211054645837.\n",
      "[I 2024-11-25 20:45:42,526] Trial 14 finished with value: 0.7844877344877345 and parameters: {'n_estimators': 142, 'learning_rate': 0.0210890569668855, 'max_depth': 3}. Best is trial 11 with value: 0.7924211054645837.\n",
      "[I 2024-11-25 20:45:43,101] Trial 15 finished with value: 0.7852907961603612 and parameters: {'n_estimators': 98, 'learning_rate': 0.016604447980818924, 'max_depth': 2}. Best is trial 11 with value: 0.7924211054645837.\n",
      "[I 2024-11-25 20:45:44,755] Trial 16 finished with value: 0.7773605621431707 and parameters: {'n_estimators': 197, 'learning_rate': 0.03963199077080141, 'max_depth': 3}. Best is trial 11 with value: 0.7924211054645837.\n",
      "[I 2024-11-25 20:45:45,723] Trial 17 finished with value: 0.7797352406048057 and parameters: {'n_estimators': 165, 'learning_rate': 0.08608152597205704, 'max_depth': 1}. Best is trial 11 with value: 0.7924211054645837.\n",
      "[I 2024-11-25 20:45:46,506] Trial 18 finished with value: 0.787668611581655 and parameters: {'n_estimators': 134, 'learning_rate': 0.015492605017727222, 'max_depth': 2}. Best is trial 11 with value: 0.7924211054645837.\n",
      "[I 2024-11-25 20:45:47,421] Trial 19 finished with value: 0.7844877344877345 and parameters: {'n_estimators': 105, 'learning_rate': 0.029173797943509612, 'max_depth': 3}. Best is trial 11 with value: 0.7924211054645837.\n",
      "[I 2024-11-25 20:45:48,310] Trial 20 finished with value: 0.7852907961603612 and parameters: {'n_estimators': 155, 'learning_rate': 0.010184314114254243, 'max_depth': 2}. Best is trial 11 with value: 0.7924211054645837.\n",
      "[I 2024-11-25 20:45:49,796] Trial 21 finished with value: 0.7868780977476628 and parameters: {'n_estimators': 134, 'learning_rate': 0.012783717821022922, 'max_depth': 4}. Best is trial 11 with value: 0.7924211054645837.\n",
      "[I 2024-11-25 20:45:51,027] Trial 22 finished with value: 0.7844877344877345 and parameters: {'n_estimators': 142, 'learning_rate': 0.021549277648193192, 'max_depth': 3}. Best is trial 11 with value: 0.7924211054645837.\n",
      "[I 2024-11-25 20:45:52,687] Trial 23 finished with value: 0.7868843716669803 and parameters: {'n_estimators': 150, 'learning_rate': 0.01000796367647776, 'max_depth': 4}. Best is trial 11 with value: 0.7924211054645837.\n",
      "[I 2024-11-25 20:45:54,156] Trial 24 finished with value: 0.7852813852813852 and parameters: {'n_estimators': 181, 'learning_rate': 0.015543723183897056, 'max_depth': 3}. Best is trial 11 with value: 0.7924211054645837.\n",
      "[I 2024-11-25 20:45:55,587] Trial 25 finished with value: 0.775785808394504 and parameters: {'n_estimators': 130, 'learning_rate': 0.03364664972469361, 'max_depth': 4}. Best is trial 11 with value: 0.7924211054645837.\n",
      "[I 2024-11-25 20:45:56,405] Trial 26 finished with value: 0.775776397515528 and parameters: {'n_estimators': 97, 'learning_rate': 0.07364985606720899, 'max_depth': 3}. Best is trial 11 with value: 0.7924211054645837.\n",
      "[I 2024-11-25 20:45:57,989] Trial 27 finished with value: 0.7813256791517661 and parameters: {'n_estimators': 144, 'learning_rate': 0.022321446037636163, 'max_depth': 4}. Best is trial 11 with value: 0.7924211054645837.\n",
      "[I 2024-11-25 20:45:59,446] Trial 28 finished with value: 0.7876623376623376 and parameters: {'n_estimators': 179, 'learning_rate': 0.014643589154317125, 'max_depth': 3}. Best is trial 11 with value: 0.7924211054645837.\n",
      "[I 2024-11-25 20:46:01,102] Trial 29 finished with value: 0.7757826714348454 and parameters: {'n_estimators': 113, 'learning_rate': 0.049074679432648614, 'max_depth': 5}. Best is trial 11 with value: 0.7924211054645837.\n",
      "[I 2024-11-25 20:46:02,438] Trial 30 finished with value: 0.7868843716669803 and parameters: {'n_estimators': 120, 'learning_rate': 0.012779300394712733, 'max_depth': 4}. Best is trial 11 with value: 0.7924211054645837.\n",
      "[I 2024-11-25 20:46:03,527] Trial 31 finished with value: 0.787668611581655 and parameters: {'n_estimators': 191, 'learning_rate': 0.010268886373384762, 'max_depth': 2}. Best is trial 11 with value: 0.7924211054645837.\n",
      "[I 2024-11-25 20:46:04,591] Trial 32 finished with value: 0.7852876592007026 and parameters: {'n_estimators': 160, 'learning_rate': 0.01304651529437675, 'max_depth': 2}. Best is trial 11 with value: 0.7924211054645837.\n",
      "[I 2024-11-25 20:46:04,801] Trial 33 finished with value: 0.7670713344626388 and parameters: {'n_estimators': 53, 'learning_rate': 0.018669947969494186, 'max_depth': 1}. Best is trial 11 with value: 0.7924211054645837.\n",
      "[I 2024-11-25 20:46:05,819] Trial 34 finished with value: 0.7860907208733294 and parameters: {'n_estimators': 178, 'learning_rate': 0.027048871828403685, 'max_depth': 2}. Best is trial 11 with value: 0.7924211054645837.\n",
      "[I 2024-11-25 20:46:06,288] Trial 35 finished with value: 0.7710301775519166 and parameters: {'n_estimators': 128, 'learning_rate': 0.0104192153882536, 'max_depth': 1}. Best is trial 11 with value: 0.7924211054645837.\n",
      "[I 2024-11-25 20:46:07,419] Trial 36 finished with value: 0.7797571993224167 and parameters: {'n_estimators': 140, 'learning_rate': 0.10942926894048921, 'max_depth': 3}. Best is trial 11 with value: 0.7924211054645837.\n",
      "[I 2024-11-25 20:46:08,354] Trial 37 finished with value: 0.7829161176987263 and parameters: {'n_estimators': 87, 'learning_rate': 0.03822470503640992, 'max_depth': 2}. Best is trial 11 with value: 0.7924211054645837.\n",
      "[I 2024-11-25 20:46:09,848] Trial 38 finished with value: 0.7868843716669802 and parameters: {'n_estimators': 123, 'learning_rate': 0.025788698152548636, 'max_depth': 4}. Best is trial 11 with value: 0.7924211054645837.\n",
      "[I 2024-11-25 20:46:11,520] Trial 39 finished with value: 0.7646997929606625 and parameters: {'n_estimators': 188, 'learning_rate': 0.16198273435679, 'max_depth': 3}. Best is trial 11 with value: 0.7924211054645837.\n",
      "[I 2024-11-25 20:46:14,759] Trial 40 finished with value: 0.7440836940836941 and parameters: {'n_estimators': 173, 'learning_rate': 0.8421356656050439, 'max_depth': 5}. Best is trial 11 with value: 0.7924211054645837.\n",
      "[I 2024-11-25 20:46:15,712] Trial 41 finished with value: 0.787668611581655 and parameters: {'n_estimators': 136, 'learning_rate': 0.015557666516352748, 'max_depth': 2}. Best is trial 11 with value: 0.7924211054645837.\n",
      "[I 2024-11-25 20:46:16,607] Trial 42 finished with value: 0.787668611581655 and parameters: {'n_estimators': 152, 'learning_rate': 0.01257329864563009, 'max_depth': 2}. Best is trial 11 with value: 0.7924211054645837.\n",
      "[I 2024-11-25 20:46:17,197] Trial 43 finished with value: 0.7805320283581152 and parameters: {'n_estimators': 160, 'learning_rate': 0.017917521039287954, 'max_depth': 1}. Best is trial 11 with value: 0.7924211054645837.\n",
      "[I 2024-11-25 20:46:18,063] Trial 44 finished with value: 0.7868749607880042 and parameters: {'n_estimators': 147, 'learning_rate': 0.012359756984140631, 'max_depth': 2}. Best is trial 11 with value: 0.7924211054645837.\n",
      "[I 2024-11-25 20:46:19,185] Trial 45 finished with value: 0.7876654746219962 and parameters: {'n_estimators': 134, 'learning_rate': 0.0173412213220036, 'max_depth': 3}. Best is trial 11 with value: 0.7924211054645837.\n",
      "[I 2024-11-25 20:46:19,862] Trial 46 finished with value: 0.7702333897986072 and parameters: {'n_estimators': 116, 'learning_rate': 0.33488848433873075, 'max_depth': 2}. Best is trial 11 with value: 0.7924211054645837.\n",
      "[I 2024-11-25 20:46:21,224] Trial 47 finished with value: 0.7892527762092978 and parameters: {'n_estimators': 163, 'learning_rate': 0.01425661715926582, 'max_depth': 3}. Best is trial 11 with value: 0.7924211054645837.\n",
      "[I 2024-11-25 20:46:23,401] Trial 48 finished with value: 0.7797509254030993 and parameters: {'n_estimators': 198, 'learning_rate': 0.02380973366933576, 'max_depth': 4}. Best is trial 11 with value: 0.7924211054645837.\n",
      "[I 2024-11-25 20:46:24,753] Trial 49 finished with value: 0.7829035698600915 and parameters: {'n_estimators': 164, 'learning_rate': 0.018864565035712752, 'max_depth': 3}. Best is trial 11 with value: 0.7924211054645837.\n"
     ]
    },
    {
     "name": "stdout",
     "output_type": "stream",
     "text": [
      "Best parameters: {'n_estimators': 141, 'learning_rate': 0.01008393842317149, 'max_depth': 3}\n",
      "Best cross-validation accuracy: 0.7924211054645837\n",
      "GradientBoostingClassifier - Accuracy: 0.7447833065810594, Precision: 0.6620370370370371, Recall: 0.6244541484716157\n"
     ]
    },
    {
     "data": {
      "image/png": "[encoded data removed]",
      "text/plain": [
       "<Figure size 640x480 with 2 Axes>"
      ]
     },
     "metadata": {},
     "output_type": "display_data"
    }
   ],
   "source": [
    "\n",
    "# Define the objective function for optimization\n",
    "def objective(trial):\n",
    "    # Suggest hyperparameters\n",
    "    n_estimators = trial.suggest_int('n_estimators', 50, 200)  # Number of trees\n",
    "    learning_rate = trial.suggest_float('learning_rate', 0.01, 1.0, log=True)  # Learning rate\n",
    "    max_depth = trial.suggest_int('max_depth', 1, 5)  # Maximum depth of each tree\n",
    "\n",
    "    # Create the model with suggested hyperparameters\n",
    "    model = GradientBoostingClassifier(n_estimators=n_estimators,learning_rate=learning_rate,max_depth=max_depth,random_state=0)\n",
    "    \n",
    "    # Evaluate the model using cross-validation\n",
    "    scores = cross_val_score(model, X_mushroom_train, y_mushroom_train, cv=5, scoring='accuracy')\n",
    "    \n",
    "    # Return the mean cross-validation accuracy\n",
    "    return scores.mean()\n",
    "\n",
    "# Create a study and optimize the objective function\n",
    "study = optuna.create_study(direction='maximize')  # We want to maximize accuracy\n",
    "study.optimize(objective, n_trials=50)  # Run 50 trials\n",
    "\n",
    "# Print the best hyperparameters and their performance\n",
    "print(f\"Best parameters: {study.best_params}\")\n",
    "print(f\"Best cross-validation accuracy: {study.best_value}\")\n",
    "\n",
    "# Retrieve the best model\n",
    "best_params = study.best_params\n",
    "best_model = GradientBoostingClassifier(**best_params, random_state=0)\n",
    "y_pred = evaluate_model(\"Mushroom\", best_model, X_mushroom_train, y_mushroom_train, X_mushroom_test, y_mushroom_test)\n",
    "\n"
   ]
  },
  {
   "cell_type": "markdown",
   "metadata": {},
   "source": [
    "## ROC Curves for Mushrooms"
   ]
  },
  {
   "cell_type": "code",
   "execution_count": 147,
   "metadata": {},
   "outputs": [
    {
     "data": {
      "image/png": "[encoded data removed]",
      "text/plain": [
       "<Figure size 1000x800 with 1 Axes>"
      ]
     },
     "metadata": {},
     "output_type": "display_data"
    }
   ],
   "source": [
    "# Create a figure for the ROC curve\n",
    "plt.figure(figsize=(10, 8))\n",
    "\n",
    "# Function to plot ROC curve\n",
    "def plot_roc_curve(fpr, tpr, label):\n",
    "    plt.plot(fpr, tpr, linewidth=2, label=label)\n",
    "\n",
    "# List of classifiers and their predictions\n",
    "models = {\n",
    "    \"Gradient Boosting\": y_pred[1]\n",
    "}\n",
    "\n",
    "# Loop through each model to calculate and plot ROC curves\n",
    "for name, predictions in models.items():\n",
    "    # Use predict_proba for SVM and others that support it\n",
    "    y_pred_proba = predictions  # For other models, use the predicted classes\n",
    "\n",
    "    # Calculate ROC curve\n",
    "    fpr, tpr, _ = roc_curve(y_mushroom_test, y_pred_proba)\n",
    "    roc_auc = roc_auc_score(y_mushroom_test, y_pred_proba)\n",
    "    plot_roc_curve(fpr, tpr, f\"{name} (AUC = {roc_auc:.2f})\")\n",
    "\n",
    "# Finalize the ROC curve plot\n",
    "plt.title(\"Receiver Operating Characteristic\")\n",
    "plt.xlabel(\"False Positive Rate\")\n",
    "plt.ylabel(\"True Positive Rate\")\n",
    "plt.legend(loc=\"lower right\")\n",
    "plt.grid()\n",
    "plt.show()"
   ]
  },
  {
   "cell_type": "markdown",
   "metadata": {},
   "source": [
    "## Semi-Supervised Learning Techniques"
   ]
  },
  {
   "cell_type": "markdown",
   "metadata": {},
   "source": [
    "### Spliting Data into Labeled and Unlabeled"
   ]
  },
  {
   "cell_type": "code",
   "execution_count": 148,
   "metadata": {},
   "outputs": [
    {
     "name": "stdout",
     "output_type": "stream",
     "text": [
      "Total samples: 1262\n",
      "Labeled samples: 126\n",
      "Unlabeled samples: 1136\n"
     ]
    }
   ],
   "source": [
    "num_samples = len(y_mushroom_train)\n",
    "num_labeled = int(0.1 * num_samples)\n",
    "labeled_indices = np.random.choice(num_samples, num_labeled, replace=False)\n",
    "\n",
    "y_mushroom_train_unlabeled = np.full_like(y_mushroom_train, fill_value=-1)\n",
    "y_mushroom_train_unlabeled[labeled_indices] = y_mushroom_train[labeled_indices]\n",
    "\n",
    "print(f\"Total samples: {num_samples}\")\n",
    "print(f\"Labeled samples: {np.sum(y_mushroom_train_unlabeled != -1)}\")\n",
    "print(f\"Unlabeled samples: {np.sum(y_mushroom_train_unlabeled == -1)}\")"
   ]
  },
  {
   "cell_type": "markdown",
   "metadata": {},
   "source": [
    "### Self-Training with Gradient Boosting"
   ]
  },
  {
   "cell_type": "code",
   "execution_count": 149,
   "metadata": {},
   "outputs": [
    {
     "name": "stdout",
     "output_type": "stream",
     "text": [
      "Accuracy of Self-Training with Gradient Boosting: 0.6597\n"
     ]
    }
   ],
   "source": [
    "self_training_model = SelfTrainingClassifier(GradientBoostingClassifier(n_estimators=best_params['n_estimators'], learning_rate=best_params['learning_rate'], max_depth=best_params['max_depth'], random_state=0))\n",
    "\n",
    "self_training_model.fit(X_mushroom_train, y_mushroom_train_unlabeled)\n",
    "\n",
    "# Train the self-training model and evaluate its performance\n",
    "y_pred = self_training_model.predict(X_mushroom_test)\n",
    "accuracy = accuracy_score(y_mushroom_test, y_pred)\n",
    "\n",
    "print(f\"Accuracy of Self-Training with Gradient Boosting: {accuracy:.4f}\")"
   ]
  },
  {
   "cell_type": "markdown",
   "metadata": {},
   "source": [
    "### Co-training with Gradient Boosting"
   ]
  },
  {
   "cell_type": "code",
   "execution_count": 150,
   "metadata": {},
   "outputs": [],
   "source": [
    "X_labeled, X_unlabeled, y_labeled, y_unlabeled = train_test_split(\n",
    "    X_mushroom_train, y_mushroom_train, test_size=0.9, stratify=y_mushroom_train\n",
    ")\n",
    "\n",
    "num_features = X_labeled.shape[1]\n",
    "X_labeled_view1, X_labeled_view2 = X_labeled.iloc[:, :num_features // 2], X_labeled.iloc[:, num_features // 2:]\n",
    "X_unlabeled_view1, X_unlabeled_view2 = X_unlabeled.iloc[:, :num_features // 2], X_unlabeled.iloc[:, num_features // 2:]"
   ]
  },
  {
   "cell_type": "code",
   "execution_count": 151,
   "metadata": {},
   "outputs": [
    {
     "name": "stderr",
     "output_type": "stream",
     "text": [
      "[I 2024-11-25 20:46:26,382] A new study created in memory with name: no-name-ada213fa-9ff1-49d9-8cc9-54c19602f8a5\n",
      "[I 2024-11-25 20:46:27,991] Trial 0 finished with value: 0.7765951439864482 and parameters: {'n_estimators': 131, 'learning_rate': 0.07732983505170957, 'max_depth': 4}. Best is trial 0 with value: 0.7765951439864482.\n",
      "[I 2024-11-25 20:46:29,896] Trial 1 finished with value: 0.7575757575757576 and parameters: {'n_estimators': 124, 'learning_rate': 0.18589172521677158, 'max_depth': 5}. Best is trial 0 with value: 0.7765951439864482.\n",
      "[I 2024-11-25 20:46:30,545] Trial 2 finished with value: 0.7361691448647971 and parameters: {'n_estimators': 79, 'learning_rate': 0.6897281337228585, 'max_depth': 3}. Best is trial 0 with value: 0.7765951439864482.\n",
      "[I 2024-11-25 20:46:31,121] Trial 3 finished with value: 0.7829098437794089 and parameters: {'n_estimators': 98, 'learning_rate': 0.07672932510714782, 'max_depth': 2}. Best is trial 3 with value: 0.7829098437794089.\n",
      "[I 2024-11-25 20:46:34,131] Trial 4 finished with value: 0.745667858711337 and parameters: {'n_estimators': 195, 'learning_rate': 0.41431819546437126, 'max_depth': 5}. Best is trial 3 with value: 0.7829098437794089.\n",
      "[I 2024-11-25 20:46:35,641] Trial 5 finished with value: 0.7702584854758767 and parameters: {'n_estimators': 103, 'learning_rate': 0.09409700600722433, 'max_depth': 5}. Best is trial 3 with value: 0.7829098437794089.\n",
      "[I 2024-11-25 20:46:37,656] Trial 6 finished with value: 0.7773825208607817 and parameters: {'n_estimators': 185, 'learning_rate': 0.04809002221182504, 'max_depth': 4}. Best is trial 3 with value: 0.7829098437794089.\n",
      "[I 2024-11-25 20:46:38,116] Trial 7 finished with value: 0.7749639249639249 and parameters: {'n_estimators': 128, 'learning_rate': 0.28296741611083265, 'max_depth': 1}. Best is trial 3 with value: 0.7829098437794089.\n",
      "[I 2024-11-25 20:46:38,767] Trial 8 finished with value: 0.7757669866365517 and parameters: {'n_estimators': 184, 'learning_rate': 0.26207041466846615, 'max_depth': 1}. Best is trial 3 with value: 0.7829098437794089.\n",
      "[I 2024-11-25 20:46:40,139] Trial 9 finished with value: 0.7844845975280756 and parameters: {'n_estimators': 168, 'learning_rate': 0.01744672762819584, 'max_depth': 3}. Best is trial 9 with value: 0.7844845975280756.\n",
      "[I 2024-11-25 20:46:41,422] Trial 10 finished with value: 0.79004329004329 and parameters: {'n_estimators': 156, 'learning_rate': 0.013909155955826466, 'max_depth': 3}. Best is trial 10 with value: 0.79004329004329.\n",
      "[I 2024-11-25 20:46:42,745] Trial 11 finished with value: 0.790833803877282 and parameters: {'n_estimators': 159, 'learning_rate': 0.011944542214366418, 'max_depth': 3}. Best is trial 11 with value: 0.790833803877282.\n",
      "[I 2024-11-25 20:46:43,649] Trial 12 finished with value: 0.787668611581655 and parameters: {'n_estimators': 155, 'learning_rate': 0.011974911603233144, 'max_depth': 2}. Best is trial 11 with value: 0.790833803877282.\n",
      "[I 2024-11-25 20:46:44,546] Trial 13 finished with value: 0.7845096932053454 and parameters: {'n_estimators': 153, 'learning_rate': 0.02444571196687868, 'max_depth': 2}. Best is trial 11 with value: 0.790833803877282.\n",
      "[I 2024-11-25 20:46:46,268] Trial 14 finished with value: 0.7829192546583851 and parameters: {'n_estimators': 153, 'learning_rate': 0.02665300282171654, 'max_depth': 4}. Best is trial 11 with value: 0.790833803877282.\n",
      "[I 2024-11-25 20:46:46,746] Trial 15 finished with value: 0.7742079176861786 and parameters: {'n_estimators': 56, 'learning_rate': 0.011937279222820703, 'max_depth': 3}. Best is trial 11 with value: 0.790833803877282.\n",
      "[I 2024-11-25 20:46:47,721] Trial 16 finished with value: 0.7860875839136708 and parameters: {'n_estimators': 169, 'learning_rate': 0.03537964934093525, 'max_depth': 2}. Best is trial 11 with value: 0.790833803877282.\n",
      "[I 2024-11-25 20:46:49,308] Trial 17 finished with value: 0.7876748855009724 and parameters: {'n_estimators': 142, 'learning_rate': 0.01046019056952799, 'max_depth': 4}. Best is trial 11 with value: 0.790833803877282.\n",
      "[I 2024-11-25 20:46:50,226] Trial 18 finished with value: 0.7837003576134011 and parameters: {'n_estimators': 111, 'learning_rate': 0.046719166624329365, 'max_depth': 3}. Best is trial 11 with value: 0.790833803877282.\n",
      "[I 2024-11-25 20:46:51,939] Trial 19 finished with value: 0.7852845222410438 and parameters: {'n_estimators': 175, 'learning_rate': 0.02079614536425164, 'max_depth': 3}. Best is trial 11 with value: 0.790833803877282.\n",
      "[I 2024-11-25 20:46:52,769] Trial 20 finished with value: 0.7813256791517661 and parameters: {'n_estimators': 143, 'learning_rate': 0.15329763496786916, 'max_depth': 2}. Best is trial 11 with value: 0.790833803877282.\n",
      "[I 2024-11-25 20:46:54,334] Trial 21 finished with value: 0.7868843716669802 and parameters: {'n_estimators': 136, 'learning_rate': 0.010112367869897101, 'max_depth': 4}. Best is trial 11 with value: 0.790833803877282.\n",
      "[I 2024-11-25 20:46:56,114] Trial 22 finished with value: 0.7852907961603612 and parameters: {'n_estimators': 148, 'learning_rate': 0.015228890155250585, 'max_depth': 4}. Best is trial 11 with value: 0.790833803877282.\n",
      "[I 2024-11-25 20:46:57,454] Trial 23 finished with value: 0.7868686868686868 and parameters: {'n_estimators': 163, 'learning_rate': 0.017032341757614363, 'max_depth': 3}. Best is trial 11 with value: 0.790833803877282.\n",
      "[I 2024-11-25 20:46:58,821] Trial 24 finished with value: 0.7821318777840517 and parameters: {'n_estimators': 123, 'learning_rate': 0.03278078688759246, 'max_depth': 4}. Best is trial 11 with value: 0.790833803877282.\n",
      "[I 2024-11-25 20:47:00,457] Trial 25 finished with value: 0.7884559884559884 and parameters: {'n_estimators': 197, 'learning_rate': 0.010191844019224938, 'max_depth': 3}. Best is trial 11 with value: 0.790833803877282.\n",
      "[I 2024-11-25 20:47:02,084] Trial 26 finished with value: 0.7781636238157977 and parameters: {'n_estimators': 199, 'learning_rate': 0.04745174138904849, 'max_depth': 3}. Best is trial 11 with value: 0.790833803877282.\n",
      "[I 2024-11-25 20:47:03,584] Trial 27 finished with value: 0.7860718991153772 and parameters: {'n_estimators': 183, 'learning_rate': 0.014805142015647041, 'max_depth': 3}. Best is trial 11 with value: 0.790833803877282.\n",
      "[I 2024-11-25 20:47:04,631] Trial 28 finished with value: 0.7845096932053454 and parameters: {'n_estimators': 161, 'learning_rate': 0.022710012665565958, 'max_depth': 2}. Best is trial 11 with value: 0.790833803877282.\n",
      "[I 2024-11-25 20:47:06,067] Trial 29 finished with value: 0.7734142668925278 and parameters: {'n_estimators': 177, 'learning_rate': 0.07765695749389924, 'max_depth': 3}. Best is trial 11 with value: 0.790833803877282.\n",
      "[I 2024-11-25 20:47:07,202] Trial 30 finished with value: 0.7853002070393375 and parameters: {'n_estimators': 198, 'learning_rate': 0.032718019290379485, 'max_depth': 2}. Best is trial 11 with value: 0.790833803877282.\n",
      "[I 2024-11-25 20:47:08,931] Trial 31 finished with value: 0.7868843716669802 and parameters: {'n_estimators': 139, 'learning_rate': 0.010046657629233725, 'max_depth': 4}. Best is trial 11 with value: 0.790833803877282.\n",
      "[I 2024-11-25 20:47:10,904] Trial 32 finished with value: 0.7821161929857581 and parameters: {'n_estimators': 132, 'learning_rate': 0.013705357136773098, 'max_depth': 5}. Best is trial 11 with value: 0.790833803877282.\n",
      "[I 2024-11-25 20:47:11,881] Trial 33 finished with value: 0.7892527762092978 and parameters: {'n_estimators': 119, 'learning_rate': 0.018988879660489476, 'max_depth': 3}. Best is trial 11 with value: 0.790833803877282.\n",
      "[I 2024-11-25 20:47:12,787] Trial 34 finished with value: 0.79004329004329 and parameters: {'n_estimators': 110, 'learning_rate': 0.01756362457799139, 'max_depth': 3}. Best is trial 11 with value: 0.790833803877282.\n",
      "[I 2024-11-25 20:47:13,492] Trial 35 finished with value: 0.7916274546709328 and parameters: {'n_estimators': 85, 'learning_rate': 0.019020433388501345, 'max_depth': 3}. Best is trial 35 with value: 0.7916274546709328.\n",
      "[I 2024-11-25 20:47:14,230] Trial 36 finished with value: 0.7892496392496392 and parameters: {'n_estimators': 89, 'learning_rate': 0.027679081039945094, 'max_depth': 3}. Best is trial 35 with value: 0.7916274546709328.\n",
      "[I 2024-11-25 20:47:14,678] Trial 37 finished with value: 0.7551697095175356 and parameters: {'n_estimators': 76, 'learning_rate': 0.7309655801934382, 'max_depth': 2}. Best is trial 35 with value: 0.7916274546709328.\n",
      "[I 2024-11-25 20:47:15,303] Trial 38 finished with value: 0.7868749607880043 and parameters: {'n_estimators': 75, 'learning_rate': 0.05542641752238839, 'max_depth': 3}. Best is trial 35 with value: 0.7916274546709328.\n",
      "[I 2024-11-25 20:47:16,077] Trial 39 finished with value: 0.7781667607754563 and parameters: {'n_estimators': 95, 'learning_rate': 0.13207219225444325, 'max_depth': 3}. Best is trial 35 with value: 0.7916274546709328.\n",
      "[I 2024-11-25 20:47:16,483] Trial 40 finished with value: 0.7757795344751865 and parameters: {'n_estimators': 110, 'learning_rate': 0.019683499015147703, 'max_depth': 1}. Best is trial 35 with value: 0.7916274546709328.\n",
      "[I 2024-11-25 20:47:17,458] Trial 41 finished with value: 0.7892496392496392 and parameters: {'n_estimators': 119, 'learning_rate': 0.01682292586168734, 'max_depth': 3}. Best is trial 35 with value: 0.7916274546709328.\n",
      "[I 2024-11-25 20:47:17,988] Trial 42 finished with value: 0.7821193299454169 and parameters: {'n_estimators': 63, 'learning_rate': 0.013536254315557402, 'max_depth': 3}. Best is trial 35 with value: 0.7916274546709328.\n",
      "[I 2024-11-25 20:47:18,956] Trial 43 finished with value: 0.7852907961603612 and parameters: {'n_estimators': 86, 'learning_rate': 0.020241199988529662, 'max_depth': 4}. Best is trial 35 with value: 0.7916274546709328.\n",
      "[I 2024-11-25 20:47:19,826] Trial 44 finished with value: 0.7836940836940837 and parameters: {'n_estimators': 106, 'learning_rate': 0.03744569173562646, 'max_depth': 3}. Best is trial 35 with value: 0.7916274546709328.\n",
      "[I 2024-11-25 20:47:20,512] Trial 45 finished with value: 0.7821224669050755 and parameters: {'n_estimators': 117, 'learning_rate': 0.024799839498561373, 'max_depth': 2}. Best is trial 35 with value: 0.7916274546709328.\n",
      "[I 2024-11-25 20:47:21,364] Trial 46 finished with value: 0.7892496392496392 and parameters: {'n_estimators': 103, 'learning_rate': 0.01945852997803931, 'max_depth': 3}. Best is trial 35 with value: 0.7916274546709328.\n",
      "[I 2024-11-25 20:47:21,937] Trial 47 finished with value: 0.7551853943158291 and parameters: {'n_estimators': 69, 'learning_rate': 0.38020989207948697, 'max_depth': 3}. Best is trial 35 with value: 0.7916274546709328.\n",
      "[I 2024-11-25 20:47:22,668] Trial 48 finished with value: 0.786084446954012 and parameters: {'n_estimators': 126, 'learning_rate': 0.013074518448273374, 'max_depth': 2}. Best is trial 35 with value: 0.7916274546709328.\n",
      "[I 2024-11-25 20:47:23,742] Trial 49 finished with value: 0.7837129054520359 and parameters: {'n_estimators': 97, 'learning_rate': 0.0407834434892831, 'max_depth': 4}. Best is trial 35 with value: 0.7916274546709328.\n",
      "[I 2024-11-25 20:47:23,744] A new study created in memory with name: no-name-f1da40c0-0623-4350-8858-9de8673b8ed3\n",
      "[I 2024-11-25 20:47:24,511] Trial 0 finished with value: 0.772620616098877 and parameters: {'n_estimators': 134, 'learning_rate': 0.22358470910014858, 'max_depth': 2}. Best is trial 0 with value: 0.772620616098877.\n",
      "[I 2024-11-25 20:47:25,060] Trial 1 finished with value: 0.7813256791517661 and parameters: {'n_estimators': 154, 'learning_rate': 0.0445931426313212, 'max_depth': 1}. Best is trial 1 with value: 0.7813256791517661.\n",
      "[I 2024-11-25 20:47:26,786] Trial 2 finished with value: 0.7385438233264321 and parameters: {'n_estimators': 157, 'learning_rate': 0.5583571442689395, 'max_depth': 4}. Best is trial 1 with value: 0.7813256791517661.\n",
      "[I 2024-11-25 20:47:27,663] Trial 3 finished with value: 0.7750015684798294 and parameters: {'n_estimators': 60, 'learning_rate': 0.11440976343019042, 'max_depth': 5}. Best is trial 1 with value: 0.7813256791517661.\n",
      "[I 2024-11-25 20:47:28,035] Trial 4 finished with value: 0.7749764728025597 and parameters: {'n_estimators': 64, 'learning_rate': 0.17179394538144474, 'max_depth': 2}. Best is trial 1 with value: 0.7813256791517661.\n",
      "[I 2024-11-25 20:47:31,188] Trial 5 finished with value: 0.7425026664157099 and parameters: {'n_estimators': 197, 'learning_rate': 0.15913596641398303, 'max_depth': 5}. Best is trial 1 with value: 0.7813256791517661.\n",
      "[I 2024-11-25 20:47:33,134] Trial 6 finished with value: 0.7424995294560512 and parameters: {'n_estimators': 173, 'learning_rate': 0.40409274728319755, 'max_depth': 4}. Best is trial 1 with value: 0.7813256791517661.\n",
      "[I 2024-11-25 20:47:33,713] Trial 7 finished with value: 0.7844940084070519 and parameters: {'n_estimators': 96, 'learning_rate': 0.015106981977997223, 'max_depth': 2}. Best is trial 7 with value: 0.7844940084070519.\n",
      "[I 2024-11-25 20:47:34,591] Trial 8 finished with value: 0.7773636991028295 and parameters: {'n_estimators': 146, 'learning_rate': 0.08419092856617602, 'max_depth': 2}. Best is trial 7 with value: 0.7844940084070519.\n",
      "[I 2024-11-25 20:47:35,794] Trial 9 finished with value: 0.7742141916054959 and parameters: {'n_estimators': 108, 'learning_rate': 0.09843180051643437, 'max_depth': 4}. Best is trial 7 with value: 0.7844940084070519.\n",
      "[I 2024-11-25 20:47:36,275] Trial 10 finished with value: 0.7710301775519166 and parameters: {'n_estimators': 101, 'learning_rate': 0.01302217021327765, 'max_depth': 1}. Best is trial 7 with value: 0.7844940084070519.\n",
      "[I 2024-11-25 20:47:36,642] Trial 11 finished with value: 0.7734017190538929 and parameters: {'n_estimators': 92, 'learning_rate': 0.020452588297055842, 'max_depth': 1}. Best is trial 7 with value: 0.7844940084070519.\n",
      "[I 2024-11-25 20:47:37,102] Trial 12 finished with value: 0.7837097684923771 and parameters: {'n_estimators': 123, 'learning_rate': 0.03432211658586645, 'max_depth': 1}. Best is trial 7 with value: 0.7844940084070519.\n",
      "[I 2024-11-25 20:47:38,176] Trial 13 finished with value: 0.786075036075036 and parameters: {'n_estimators': 119, 'learning_rate': 0.026678991657440018, 'max_depth': 3}. Best is trial 13 with value: 0.786075036075036.\n",
      "[I 2024-11-25 20:47:38,873] Trial 14 finished with value: 0.7829129807390677 and parameters: {'n_estimators': 81, 'learning_rate': 0.011287668030295388, 'max_depth': 3}. Best is trial 13 with value: 0.786075036075036.\n",
      "[I 2024-11-25 20:47:39,863] Trial 15 finished with value: 0.7829067068197503 and parameters: {'n_estimators': 113, 'learning_rate': 0.029814813287732313, 'max_depth': 3}. Best is trial 13 with value: 0.786075036075036.\n",
      "[I 2024-11-25 20:47:40,558] Trial 16 finished with value: 0.7821130560260995 and parameters: {'n_estimators': 81, 'learning_rate': 0.054601172214083525, 'max_depth': 3}. Best is trial 13 with value: 0.786075036075036.\n",
      "[I 2024-11-25 20:47:41,310] Trial 17 finished with value: 0.7844971453667104 and parameters: {'n_estimators': 129, 'learning_rate': 0.018747268756661207, 'max_depth': 2}. Best is trial 13 with value: 0.786075036075036.\n",
      "[I 2024-11-25 20:47:42,380] Trial 18 finished with value: 0.7829035698600915 and parameters: {'n_estimators': 130, 'learning_rate': 0.02207165856544567, 'max_depth': 3}. Best is trial 13 with value: 0.786075036075036.\n",
      "[I 2024-11-25 20:47:43,348] Trial 19 finished with value: 0.7781542129368215 and parameters: {'n_estimators': 169, 'learning_rate': 0.06044849911757918, 'max_depth': 2}. Best is trial 13 with value: 0.786075036075036.\n",
      "[I 2024-11-25 20:47:44,902] Trial 20 finished with value: 0.7821224669050755 and parameters: {'n_estimators': 138, 'learning_rate': 0.021974163868298615, 'max_depth': 4}. Best is trial 13 with value: 0.786075036075036.\n",
      "[I 2024-11-25 20:47:45,600] Trial 21 finished with value: 0.7860813099943534 and parameters: {'n_estimators': 120, 'learning_rate': 0.01469231062158786, 'max_depth': 2}. Best is trial 21 with value: 0.7860813099943534.\n",
      "[I 2024-11-25 20:47:46,373] Trial 22 finished with value: 0.7844940084070519 and parameters: {'n_estimators': 119, 'learning_rate': 0.010861198353452901, 'max_depth': 2}. Best is trial 21 with value: 0.7860813099943534.\n",
      "[I 2024-11-25 20:47:47,356] Trial 23 finished with value: 0.790833803877282 and parameters: {'n_estimators': 111, 'learning_rate': 0.017851042600874084, 'max_depth': 3}. Best is trial 23 with value: 0.790833803877282.\n",
      "[I 2024-11-25 20:47:48,901] Trial 24 finished with value: 0.7836940836940837 and parameters: {'n_estimators': 109, 'learning_rate': 0.03151790733269151, 'max_depth': 3}. Best is trial 23 with value: 0.790833803877282.\n",
      "[I 2024-11-25 20:47:49,770] Trial 25 finished with value: 0.7876654746219962 and parameters: {'n_estimators': 78, 'learning_rate': 0.01596003117045252, 'max_depth': 3}. Best is trial 23 with value: 0.790833803877282.\n",
      "[I 2024-11-25 20:47:51,020] Trial 26 finished with value: 0.7852970700796786 and parameters: {'n_estimators': 82, 'learning_rate': 0.016864811281684624, 'max_depth': 4}. Best is trial 23 with value: 0.790833803877282.\n",
      "[I 2024-11-25 20:47:51,595] Trial 27 finished with value: 0.7757920823138214 and parameters: {'n_estimators': 68, 'learning_rate': 0.010325770753497894, 'max_depth': 3}. Best is trial 23 with value: 0.790833803877282.\n",
      "[I 2024-11-25 20:47:52,026] Trial 28 finished with value: 0.7353754940711462 and parameters: {'n_estimators': 50, 'learning_rate': 0.8846965591502479, 'max_depth': 3}. Best is trial 23 with value: 0.790833803877282.\n",
      "[I 2024-11-25 20:47:52,571] Trial 29 finished with value: 0.7837129054520359 and parameters: {'n_estimators': 92, 'learning_rate': 0.04850800345381795, 'max_depth': 2}. Best is trial 23 with value: 0.790833803877282.\n",
      "[I 2024-11-25 20:47:54,083] Trial 30 finished with value: 0.7789510006901311 and parameters: {'n_estimators': 137, 'learning_rate': 0.036806076855338266, 'max_depth': 4}. Best is trial 23 with value: 0.790833803877282.\n",
      "[I 2024-11-25 20:47:55,052] Trial 31 finished with value: 0.7829004329004329 and parameters: {'n_estimators': 117, 'learning_rate': 0.02467162849046219, 'max_depth': 3}. Best is trial 23 with value: 0.790833803877282.\n",
      "[I 2024-11-25 20:47:55,910] Trial 32 finished with value: 0.7916274546709328 and parameters: {'n_estimators': 103, 'learning_rate': 0.016559961804148846, 'max_depth': 3}. Best is trial 32 with value: 0.7916274546709328.\n",
      "[I 2024-11-25 20:47:57,065] Trial 33 finished with value: 0.7868780977476628 and parameters: {'n_estimators': 101, 'learning_rate': 0.015065979390944971, 'max_depth': 4}. Best is trial 32 with value: 0.7916274546709328.\n",
      "[I 2024-11-25 20:47:58,614] Trial 34 finished with value: 0.7813288161114247 and parameters: {'n_estimators': 103, 'learning_rate': 0.015175725738857681, 'max_depth': 5}. Best is trial 32 with value: 0.7916274546709328.\n",
      "[I 2024-11-25 20:47:59,583] Trial 35 finished with value: 0.7829161176987263 and parameters: {'n_estimators': 87, 'learning_rate': 0.06788241733866086, 'max_depth': 4}. Best is trial 32 with value: 0.7916274546709328.\n",
      "[I 2024-11-25 20:48:00,408] Trial 36 finished with value: 0.7837097684923771 and parameters: {'n_estimators': 73, 'learning_rate': 0.042715251406129216, 'max_depth': 4}. Best is trial 32 with value: 0.7916274546709328.\n",
      "[I 2024-11-25 20:48:01,229] Trial 37 finished with value: 0.7472457494196625 and parameters: {'n_estimators': 73, 'learning_rate': 0.32983707616447555, 'max_depth': 4}. Best is trial 32 with value: 0.7916274546709328.\n",
      "[I 2024-11-25 20:48:02,096] Trial 38 finished with value: 0.7749858836815358 and parameters: {'n_estimators': 56, 'learning_rate': 0.017849376441628484, 'max_depth': 5}. Best is trial 32 with value: 0.7916274546709328.\n",
      "[I 2024-11-25 20:48:02,899] Trial 39 finished with value: 0.7813256791517661 and parameters: {'n_estimators': 98, 'learning_rate': 0.14867615473080054, 'max_depth': 3}. Best is trial 32 with value: 0.7916274546709328.\n",
      "[I 2024-11-25 20:48:03,788] Trial 40 finished with value: 0.792417968504925 and parameters: {'n_estimators': 108, 'learning_rate': 0.013112472645221775, 'max_depth': 3}. Best is trial 40 with value: 0.792417968504925.\n",
      "[I 2024-11-25 20:48:04,825] Trial 41 finished with value: 0.7916305916305916 and parameters: {'n_estimators': 107, 'learning_rate': 0.013170551685115793, 'max_depth': 3}. Best is trial 40 with value: 0.792417968504925.\n",
      "[I 2024-11-25 20:48:05,708] Trial 42 finished with value: 0.7892465022899804 and parameters: {'n_estimators': 107, 'learning_rate': 0.012273201840346361, 'max_depth': 3}. Best is trial 40 with value: 0.792417968504925.\n",
      "[I 2024-11-25 20:48:06,586] Trial 43 finished with value: 0.7900401530836312 and parameters: {'n_estimators': 106, 'learning_rate': 0.012236129817912793, 'max_depth': 3}. Best is trial 40 with value: 0.792417968504925.\n",
      "[I 2024-11-25 20:48:07,500] Trial 44 finished with value: 0.7916274546709328 and parameters: {'n_estimators': 111, 'learning_rate': 0.012684964874756453, 'max_depth': 3}. Best is trial 40 with value: 0.792417968504925.\n",
      "[I 2024-11-25 20:48:08,695] Trial 45 finished with value: 0.7837003576134011 and parameters: {'n_estimators': 147, 'learning_rate': 0.02619910020292034, 'max_depth': 3}. Best is trial 40 with value: 0.792417968504925.\n",
      "[I 2024-11-25 20:48:09,225] Trial 46 finished with value: 0.7789510006901311 and parameters: {'n_estimators': 91, 'learning_rate': 0.010055310644036206, 'max_depth': 2}. Best is trial 40 with value: 0.792417968504925.\n",
      "[I 2024-11-25 20:48:10,160] Trial 47 finished with value: 0.788459125415647 and parameters: {'n_estimators': 114, 'learning_rate': 0.020182792552913827, 'max_depth': 3}. Best is trial 40 with value: 0.792417968504925.\n",
      "[I 2024-11-25 20:48:11,190] Trial 48 finished with value: 0.758363134450091 and parameters: {'n_estimators': 127, 'learning_rate': 0.2337084316121276, 'max_depth': 3}. Best is trial 40 with value: 0.792417968504925.\n",
      "[I 2024-11-25 20:48:12,339] Trial 49 finished with value: 0.7932147562582345 and parameters: {'n_estimators': 111, 'learning_rate': 0.013932769316024472, 'max_depth': 3}. Best is trial 49 with value: 0.7932147562582345.\n"
     ]
    },
    {
     "name": "stdout",
     "output_type": "stream",
     "text": [
      "--- Iteration 1 ---\n",
      "Added 173 new labeled samples.\n",
      "--- Iteration 2 ---\n",
      "Added 555 new labeled samples.\n",
      "--- Iteration 3 ---\n",
      "Added 428 new labeled samples.\n",
      "--- Iteration 4 ---\n",
      "Added 228 new labeled samples.\n",
      "--- Iteration 5 ---\n",
      "Added 26 new labeled samples.\n",
      "--- Iteration 6 ---\n",
      "Added 8 new labeled samples.\n",
      "--- Iteration 7 ---\n",
      "Added 1 new labeled samples.\n",
      "--- Iteration 8 ---\n",
      "No more confident predictions; stopping training.\n",
      "Final accuracy on test set: 0.6324\n"
     ]
    }
   ],
   "source": [
    "studyOne = optuna.create_study(direction='maximize')  \n",
    "studyOne.optimize(objective, n_trials=50)  \n",
    "best_paramsOne = studyOne.best_params\n",
    "clf1 = GradientBoostingClassifier(**best_paramsOne, random_state=0)\n",
    "\n",
    "studyTwo = optuna.create_study(direction='maximize')  \n",
    "studyTwo.optimize(objective, n_trials=50) \n",
    "best_paramsTwo = studyTwo.best_params\n",
    "clf2 = GradientBoostingClassifier(**best_paramsTwo, random_state=0)\n",
    "\n",
    "clf1.fit(X_labeled_view1, y_labeled)\n",
    "clf2.fit(X_labeled_view2, y_labeled)\n",
    "\n",
    "max_iterations = 10\n",
    "confidence_threshold = 0.9\n",
    "\n",
    "X_unlabeled_view1 = X_unlabeled_view1.reset_index(drop=True)\n",
    "X_unlabeled_view2 = X_unlabeled_view2.reset_index(drop=True)\n",
    "\n",
    "# Co-training loop\n",
    "for iteration in range(max_iterations):\n",
    "    print(f\"--- Iteration {iteration + 1} ---\")\n",
    "    \n",
    "    # Step 1: Predict on the unlabeled data using both classifiers\n",
    "    probs1 = clf1.predict_proba(X_unlabeled_view1)\n",
    "    probs2 = clf2.predict_proba(X_unlabeled_view2)\n",
    "\n",
    "    # Step 2: Select confident predictions (probability > confidence_threshold)\n",
    "    confident_indices1 = np.where(np.max(probs1, axis=1) > confidence_threshold)[0]\n",
    "    confident_indices2 = np.where(np.max(probs2, axis=1) > confidence_threshold)[0]\n",
    "\n",
    "    # Ensure consistent indices by using `.iloc` only within bounds\n",
    "    if confident_indices1.size > 0:\n",
    "        confident_samples1_view1 = X_unlabeled_view1.iloc[confident_indices1]\n",
    "        confident_samples1_view2 = X_unlabeled_view2.iloc[confident_indices1]\n",
    "        confident_labels1 = clf1.predict(confident_samples1_view1)\n",
    "\n",
    "        X_labeled_view1 = pd.concat([X_labeled_view1, confident_samples1_view1], axis=0)\n",
    "        X_labeled_view2 = pd.concat([X_labeled_view2, confident_samples1_view2], axis=0)\n",
    "        y_labeled = np.hstack((y_labeled, confident_labels1))\n",
    "\n",
    "    if confident_indices2.size > 0:\n",
    "        confident_samples2_view1 = X_unlabeled_view1.iloc[confident_indices2]\n",
    "        confident_samples2_view2 = X_unlabeled_view2.iloc[confident_indices2]\n",
    "        confident_labels2 = clf2.predict(confident_samples2_view2)\n",
    "\n",
    "        X_labeled_view1 = pd.concat([X_labeled_view1, confident_samples2_view1], axis=0)\n",
    "        X_labeled_view2 = pd.concat([X_labeled_view2, confident_samples2_view2], axis=0)\n",
    "        y_labeled = np.hstack((y_labeled, confident_labels2))\n",
    "\n",
    "    # Step 3: Remove confident samples from the unlabeled set\n",
    "    confident_indices_combined = np.union1d(confident_indices1, confident_indices2)\n",
    "    X_unlabeled_view1 = X_unlabeled_view1.drop(index=confident_indices_combined).reset_index(drop=True)\n",
    "    X_unlabeled_view2 = X_unlabeled_view2.drop(index=confident_indices_combined).reset_index(drop=True)\n",
    "\n",
    "    # Retrain classifiers on the updated labeled set\n",
    "    clf1.fit(X_labeled_view1, y_labeled)\n",
    "    clf2.fit(X_labeled_view2, y_labeled)\n",
    "\n",
    "    # Step 4: Stop if no confident predictions\n",
    "    if confident_indices1.size == 0 and confident_indices2.size == 0:\n",
    "        print(\"No more confident predictions; stopping training.\")\n",
    "        break\n",
    "\n",
    "    print(f\"Added {len(confident_indices1) + len(confident_indices2)} new labeled samples.\")\n",
    "\n",
    "# Final evaluation on test set\n",
    "probs1_test = clf1.predict_proba(X_mushroom_test.iloc[:, :num_features // 2])  # First view\n",
    "probs2_test = clf2.predict_proba(X_mushroom_test.iloc[:, num_features // 2:])  # Second view\n",
    "\n",
    "# Average the probabilities from both classifiers\n",
    "avg_probs_test = (probs1_test + probs2_test) / 2\n",
    "\n",
    "# Convert averaged probabilities to predicted labels\n",
    "final_predictions = np.argmax(avg_probs_test, axis=1)\n",
    "\n",
    "# Calculate the accuracy\n",
    "accuracy = accuracy_score(y_mushroom_test, final_predictions)\n",
    "print(f\"Final accuracy on test set: {accuracy:.4f}\")\n"
   ]
  },
  {
   "cell_type": "markdown",
   "metadata": {},
   "source": [
    "### Semi-supervised ensemble"
   ]
  },
  {
   "cell_type": "code",
   "execution_count": 152,
   "metadata": {},
   "outputs": [],
   "source": [
    "X_labeled, X_unlabeled, y_labeled, y_unlabeled = train_test_split(\n",
    "    X_mushroom_train, y_mushroom_train, test_size=0.9, stratify=y_mushroom_train\n",
    ")"
   ]
  },
  {
   "cell_type": "code",
   "execution_count": 153,
   "metadata": {},
   "outputs": [],
   "source": [
    "import numpy as np\n",
    "from sklearn.tree import DecisionTreeClassifier\n",
    "from sklearn.base import BaseEstimator, ClassifierMixin\n",
    "from sklearn.utils.validation import check_X_y, check_array, check_is_fitted\n",
    "\n",
    "class SemiBoost(BaseEstimator, ClassifierMixin):\n",
    "    def __init__(self, base_estimator=None, n_estimators=10, beta=1.0):\n",
    "        self.base_estimator = base_estimator or DecisionTreeClassifier(max_depth=1)\n",
    "        self.n_estimators = n_estimators\n",
    "        self.beta = beta\n",
    "\n",
    "    def fit(self, X_labeled, y_labeled, X_unlabeled):\n",
    "        X_labeled, y_labeled = check_X_y(X_labeled, y_labeled)\n",
    "        X_unlabeled = check_array(X_unlabeled)\n",
    "\n",
    "        self.classes_ = np.unique(y_labeled)\n",
    "        n_labeled = X_labeled.shape[0]\n",
    "        n_unlabeled = X_unlabeled.shape[0]\n",
    "\n",
    "        X_combined = np.vstack((X_labeled, X_unlabeled))\n",
    "        y_combined = np.hstack((y_labeled, [-1] * n_unlabeled))\n",
    "\n",
    "        weights = np.ones(n_labeled + n_unlabeled) / (n_labeled + n_unlabeled)\n",
    "\n",
    "        self.estimators_ = []\n",
    "        self.estimator_weights_ = []\n",
    "\n",
    "        for _ in range(self.n_estimators):\n",
    "            clf = self.base_estimator\n",
    "            clf.fit(X_combined, y_combined, sample_weight=weights)\n",
    "\n",
    "            y_pred = clf.predict(X_combined)\n",
    "\n",
    "            labeled_error = np.sum(weights[:n_labeled] * (y_pred[:n_labeled] != y_labeled)) / np.sum(weights[:n_labeled])\n",
    "\n",
    "            weights[:n_labeled] *= np.exp(self.beta * (y_pred[:n_labeled] != y_labeled))\n",
    "\n",
    "            confident_predictions = np.abs(clf.predict_proba(X_unlabeled).max(axis=1) - 0.5) > 0.3\n",
    "            pseudo_labels = clf.predict(X_unlabeled)\n",
    "            weights[n_labeled:] *= np.exp(self.beta * confident_predictions * (pseudo_labels != y_combined[n_labeled:]))\n",
    "\n",
    "            weights /= np.sum(weights)\n",
    "\n",
    "            self.estimators_.append(clf)\n",
    "            self.estimator_weights_.append(np.log(1 / labeled_error))\n",
    "\n",
    "        return self\n",
    "\n",
    "    def predict(self, X):\n",
    "        check_is_fitted(self)\n",
    "        X = check_array(X)\n",
    "\n",
    "        final_prediction = np.zeros(X.shape[0])\n",
    "        for weight, clf in zip(self.estimator_weights_, self.estimators_):\n",
    "            final_prediction += weight * clf.predict(X)\n",
    "\n",
    "        return np.sign(final_prediction)\n"
   ]
  },
  {
   "cell_type": "code",
   "execution_count": 154,
   "metadata": {},
   "outputs": [
    {
     "name": "stdout",
     "output_type": "stream",
     "text": [
      "Accuracy: 0.37\n"
     ]
    }
   ],
   "source": [
    "semi_boost = SemiBoost(n_estimators=10)\n",
    "semi_boost.fit(X_labeled, y_labeled, X_unlabeled)\n",
    "\n",
    "\n",
    "y_pred = semi_boost.predict(X_mushroom_test)\n",
    "accuracy = accuracy_score(y_mushroom_test, y_pred)\n",
    "\n",
    "print(f\"Accuracy: {accuracy:.2f}\")"
   ]
  },
  {
   "cell_type": "markdown",
   "metadata": {},
   "source": [
    "### Unsupervised pretraining"
   ]
  },
  {
   "cell_type": "code",
   "execution_count": 155,
   "metadata": {},
   "outputs": [
    {
     "name": "stdout",
     "output_type": "stream",
     "text": [
      "Accuracy: 0.7079\n",
      "Precision: 0.6093, Recall: 0.5721, F1-score: 0.5901\n",
      "AUC: 0.7730\n"
     ]
    }
   ],
   "source": [
    "from sklearn.neural_network import MLPRegressor\n",
    "from sklearn.ensemble import GradientBoostingClassifier\n",
    "from sklearn.metrics import accuracy_score, precision_recall_fscore_support, roc_auc_score\n",
    "\n",
    "# Train an autoencoder using MLPRegressor\n",
    "autoencoder = MLPRegressor(hidden_layer_sizes=(50, 25, 50), max_iter=500, random_state=42)\n",
    "autoencoder.fit(X_unlabeled, X_unlabeled)\n",
    "\n",
    "# Extract encoded features\n",
    "encoder = autoencoder\n",
    "X_labeled_encoded = encoder.predict(X_labeled)\n",
    "X_unlabeled_encoded = encoder.predict(X_unlabeled)\n",
    "X_test_encoded = encoder.predict(X_mushroom_test)\n",
    "\n",
    "# Train a classifier on the labeled data with encoded features\n",
    "clf = GradientBoostingClassifier(random_state=42)\n",
    "clf.fit(X_labeled_encoded, y_labeled)\n",
    "\n",
    "# Evaluate the model on the test set\n",
    "y_pred = clf.predict(X_test_encoded)\n",
    "accuracy = accuracy_score(y_mushroom_test, y_pred)\n",
    "precision, recall, f1, _ = precision_recall_fscore_support(y_mushroom_test, y_pred, average=\"binary\")\n",
    "auc = roc_auc_score(y_mushroom_test, clf.predict_proba(X_test_encoded)[:, 1])\n",
    "\n",
    "print(f\"Accuracy: {accuracy:.4f}\")\n",
    "print(f\"Precision: {precision:.4f}, Recall: {recall:.4f}, F1-score: {f1:.4f}\")\n",
    "print(f\"AUC: {auc:.4f}\")\n"
   ]
  }
 ],
 "metadata": {
  "kernelspec": {
   "display_name": "py-env",
   "language": "python",
   "name": "python3"
  },
  "language_info": {
   "codemirror_mode": {
    "name": "ipython",
    "version": 3
   },
   "file_extension": ".py",
   "mimetype": "text/x-python",
   "name": "python",
   "nbconvert_exporter": "python",
   "pygments_lexer": "ipython3",
   "version": "3.12.6"
  }
 },
 "nbformat": 4,
 "nbformat_minor": 2
}
